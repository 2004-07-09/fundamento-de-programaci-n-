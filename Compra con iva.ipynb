{
 "cells": [
  {
   "cell_type": "markdown",
   "metadata": {},
   "source": [
    "# Compra realizaca con iva incluido"
   ]
  },
  {
   "cell_type": "code",
   "execution_count": 22,
   "metadata": {},
   "outputs": [
    {
     "name": "stdout",
     "output_type": "stream",
     "text": [
      "ingrese el valor neto de la compra : 5000\n",
      "El total a pagar con iva es :  5950.0\n",
      "El total a pagar con descuento es : 5652.5\n"
     ]
    }
   ],
   "source": [
    "des_ofrt = float (0.05) \n",
    "val_compra = (int(input(\"ingrese el valor neto de la compra : \")))\n",
    "iva_por = float (0.19)\n",
    "totl_iva = iva_por * val_compra\n",
    "totl_pag = totl_iva + val_compra\n",
    "totl_des = totl_pag * des_ofrt\n",
    "totl_des_pr = totl_pag - totl_des\n",
    "print (\"El total a pagar con iva es : \", totl_pag)\n",
    "print (\"El total a pagar con descuento es :\",totl_des_pr)"
   ]
  }
 ],
 "metadata": {
  "kernelspec": {
   "display_name": "Python 3",
   "language": "python",
   "name": "python3"
  },
  "language_info": {
   "codemirror_mode": {
    "name": "ipython",
    "version": 3
   },
   "file_extension": ".py",
   "mimetype": "text/x-python",
   "name": "python",
   "nbconvert_exporter": "python",
   "pygments_lexer": "ipython3",
   "version": "3.8.5"
  }
 },
 "nbformat": 4,
 "nbformat_minor": 4
}
