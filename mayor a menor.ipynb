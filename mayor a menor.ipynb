{
 "cells": [
  {
   "cell_type": "code",
   "execution_count": 3,
   "metadata": {},
   "outputs": [
    {
     "name": "stdout",
     "output_type": "stream",
     "text": [
      "elija 1 si lo quiere de mayor a menor y 2 si lo quiere de menor a mayor :1\n",
      "ingrese 3 numeros enteros diferenetes\n",
      "ingrese el primer numero :5\n",
      "ingrese el segundo numero :4\n",
      "ingrese el tercer numero :6\n",
      "6 5 4\n"
     ]
    }
   ],
   "source": [
    "e = int(input(\"elija 1 si lo quiere de mayor a menor y 2 si lo quiere de menor a mayor :\"))\n",
    "\n",
    "\n",
    "print(\"ingrese 3 numeros enteros diferenetes\")\n",
    "num_1 = int(input(\"ingrese el primer numero :\"))\n",
    "num_2 = int(input(\"ingrese el segundo numero :\"))\n",
    "num_3 = int(input(\"ingrese el tercer numero :\"))\n",
    "\n",
    "if (e == 1):    \n",
    "    if (num_1 > num_2):\n",
    "        if (num_1 > num_3):\n",
    "            if(num_2 > num_3):\n",
    "               print(num_1, num_2, num_3)\n",
    "            else:\n",
    "               print(num_1, num_2, num_3)\n",
    "    if (num_3 > num_1):\n",
    "        if (num_3 > num_2):\n",
    "            if(num_2 > num_1):\n",
    "               print(num_3, num_2, num_1)\n",
    "            else:\n",
    "               print(num_3, num_1, num_2)\n",
    "    if (num_2 > num_1):\n",
    "        if (num_2 > num_3):\n",
    "            if(num_1 > num_3):\n",
    "               print(num_2, num_1, num_3)\n",
    "            else:\n",
    "               print(num_2, num_3, num_1)\n",
    "\n",
    "\n",
    "if (e == 2):\n",
    "    if (num_1 < num_2):\n",
    "        if (num_1 < num_3):\n",
    "            if(num_2 < num_3):\n",
    "               print(num_1, num_2, num_3)\n",
    "            else:\n",
    "               print(num_1, num_3, num_2)\n",
    "    if (num_3 < num_1):\n",
    "        if (num_3 < num_2):\n",
    "            if(num_2 < num_1):\n",
    "               print(num_3, num_2, num_1)\n",
    "            else:\n",
    "               print(num_3, num_1, num_2)\n",
    "    if (num_2 < num_1):\n",
    "        if (num_2 < num_3):\n",
    "            if(num_1 < num_3):\n",
    "               print(num_2, num_1, num_3)\n",
    "            else:\n",
    "               print(num_2, num_3, num_1)\n",
    "\n",
    "if (num_1 == num_2):\n",
    "    print(\"b y a son iguales\")\n",
    "    if (num_1 == num_3):\n",
    "        print(\"a y c son iguales\")\n",
    "        if(num_2 == num_3):\n",
    "           print(\" b y c con iguales\")\n",
    "           if(num_1 == num_2 == num_3):\n",
    "              print(\"todos son iguales\")"
   ]
  },
  {
   "cell_type": "code",
   "execution_count": null,
   "metadata": {},
   "outputs": [],
   "source": []
  }
 ],
 "metadata": {
  "kernelspec": {
   "display_name": "Python 3",
   "language": "python",
   "name": "python3"
  },
  "language_info": {
   "codemirror_mode": {
    "name": "ipython",
    "version": 3
   },
   "file_extension": ".py",
   "mimetype": "text/x-python",
   "name": "python",
   "nbconvert_exporter": "python",
   "pygments_lexer": "ipython3",
   "version": "3.8.5"
  }
 },
 "nbformat": 4,
 "nbformat_minor": 4
}
