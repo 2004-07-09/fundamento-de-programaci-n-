{
 "cells": [
  {
   "cell_type": "code",
   "execution_count": 8,
   "metadata": {},
   "outputs": [
    {
     "name": "stdout",
     "output_type": "stream",
     "text": [
      "Ingrese el nombre del estudiante:daniel\n",
      "Ingrese la notas del primer bimestre :5\n",
      "Ingrese la notas del segundo bimestre :4\n",
      "Ingrese la nota imaginario del examen supletorio: 1\n",
      "Su promedio seria de:  3.3333333333333335\n",
      "Perdio la materia\n"
     ]
    }
   ],
   "source": [
    "nom= input(\"Ingrese el nombre del estudiante:\")\n",
    "nota_1=int(input(\"Ingrese la notas del primer bimestre :\"))\n",
    "nota_2=int(input(\"Ingrese la notas del segundo bimestre :\"))\n",
    "nota_sup=int(input(\"Ingrese la nota imaginario del examen supletorio: \"))\n",
    "nota_total= nota_1+nota_2+nota_sup\n",
    "val_prom= nota_total/3\n",
    "print(\"Su promedio seria de: \", val_prom)\n",
    "if val_prom <3.5 :\n",
    "    print(\"Perdio la materia\")\n",
    "if val_prom >=3.5 :\n",
    "    print(\"Gano la materia\")    "
   ]
  },
  {
   "cell_type": "code",
   "execution_count": null,
   "metadata": {},
   "outputs": [],
   "source": []
  }
 ],
 "metadata": {
  "kernelspec": {
   "display_name": "Python 3",
   "language": "python",
   "name": "python3"
  },
  "language_info": {
   "codemirror_mode": {
    "name": "ipython",
    "version": 3
   },
   "file_extension": ".py",
   "mimetype": "text/x-python",
   "name": "python",
   "nbconvert_exporter": "python",
   "pygments_lexer": "ipython3",
   "version": "3.8.5"
  }
 },
 "nbformat": 4,
 "nbformat_minor": 4
}
