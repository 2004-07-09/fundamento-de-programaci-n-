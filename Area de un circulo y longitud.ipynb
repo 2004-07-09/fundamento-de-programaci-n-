{
 "cells": [
  {
   "cell_type": "code",
   "execution_count": 2,
   "metadata": {},
   "outputs": [
    {
     "name": "stdout",
     "output_type": "stream",
     "text": [
      "Ingrese el radio del circulo : 50\n",
      "El area del circulo es :  7500\n",
      "Y la longitud de la circuferencia es: 300\n"
     ]
    }
   ],
   "source": [
    "radio=int(input(\"Ingrese el radio del circulo : \"))\n",
    "pi=int(3.14)\n",
    "area_circulo=pi*radio**2\n",
    "long_circunferencia=2*pi*radio\n",
    "print(\"El area del circulo es : \",area_circulo)\n",
    "print(\"Y la longitud de la circuferencia es:\",long_circunferencia)"
   ]
  },
  {
   "cell_type": "code",
   "execution_count": null,
   "metadata": {},
   "outputs": [],
   "source": []
  }
 ],
 "metadata": {
  "kernelspec": {
   "display_name": "Python 3",
   "language": "python",
   "name": "python3"
  },
  "language_info": {
   "codemirror_mode": {
    "name": "ipython",
    "version": 3
   },
   "file_extension": ".py",
   "mimetype": "text/x-python",
   "name": "python",
   "nbconvert_exporter": "python",
   "pygments_lexer": "ipython3",
   "version": "3.8.5"
  }
 },
 "nbformat": 4,
 "nbformat_minor": 4
}
