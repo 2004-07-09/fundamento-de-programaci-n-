{
 "cells": [
  {
   "cell_type": "markdown",
   "metadata": {},
   "source": [
    "# CONDICIONALES"
   ]
  },
  {
   "cell_type": "markdown",
   "metadata": {},
   "source": [
    "## Condicional simple"
   ]
  },
  {
   "cell_type": "markdown",
   "metadata": {},
   "source": [
    "### Capturar por teclado el salario, imprimir si debe pagar impuestos"
   ]
  },
  {
   "cell_type": "code",
   "execution_count": 6,
   "metadata": {},
   "outputs": [
    {
     "name": "stdout",
     "output_type": "stream",
     "text": [
      "Ingrese cual es su sueldo:3000\n"
     ]
    }
   ],
   "source": [
    "sueldo=int(input(\"Ingrese cual es su sueldo:\"))\n",
    "if sueldo>3000:\n",
    "    print(\"Esta persona debe abonar impuestos\")"
   ]
  },
  {
   "cell_type": "code",
   "execution_count": 7,
   "metadata": {},
   "outputs": [
    {
     "name": "stdout",
     "output_type": "stream",
     "text": [
      "Ingrese cual es su sueldo:100\n",
      "Esta persona NO debe abonar impuestos\n"
     ]
    }
   ],
   "source": [
    "sueldo=int(input(\"Ingrese cual es su sueldo:\"))\n",
    "if sueldo>3000:\n",
    "    print(\"Esta persona debe abonar impuestos\")\n",
    "else:\n",
    "    print(\"Esta persona NO debe abonar impuestos\")"
   ]
  },
  {
   "cell_type": "markdown",
   "metadata": {},
   "source": [
    "## Leer nombre de un estudiante, las notas de los 3 parciales, el acumulado de inasistencias y calcular la nota definitiva sabiendo que el PP tiene un % del 35%,  SP tiene un % del 35% y el restante 30% es para el tercer parcial.\n",
    "## Imprimir la nota definitiva mas un concepto: \n",
    "### Gano academicamente     Fallas < a 12 y NotaDefinitiva >=3\n",
    "### perdio academicamente   Fallas < a 12 y NotaDefinitiva < 3\n",
    "### perdio por inasistencia     Fallas < a 12 y NotaDefinitiva no importa y se divide por la mitad\n",
    "### perdio academicammente y por inasistencia Fallas > a 12 y NotaDefinitiva < 3"
   ]
  },
  {
   "cell_type": "code",
   "execution_count": 4,
   "metadata": {},
   "outputs": [
    {
     "name": "stdout",
     "output_type": "stream",
     "text": [
      "Ingrese su nombre:daniel\n",
      "Ingrese su nota del primer parcial:2\n",
      "Ingrese su nota del segundo parcial:4\n",
      "ingrese su nota del tercer parcial:3\n",
      "Inngrese el numero de inasistencias que tuvo:2\n",
      "Su nota final es: 2.3999999999999995\n",
      "PERDIO ACADEMICAMENTE\n"
     ]
    }
   ],
   "source": [
    "nombre_del_estudiante=input(\"Ingrese su nombre:\")\n",
    "pp=int(input(\"Ingrese su nota del primer parcial:\"))\n",
    "sp=int(input(\"Ingrese su nota del segundo parcial:\"))\n",
    "tp=int(input(\"ingrese su nota del tercer parcial:\"))\n",
    "acomulado_de_inasistencias=int(input(\"Inngrese el numero de inasistencias que tuvo:\"))\n",
    "porcen1=pp*0.35\n",
    "porcen2=sp*0.35\n",
    "porcen3=tp*0.30\n",
    "notafinal=porcen1+porcen2+porcen3/3\n",
    "print(\"Su nota final es:\", notafinal)\n",
    "if notafinal>=3 and acomulado_de_inasistencias<12:\n",
    "    print(\"GANO ACADEMICAMENTE\")\n",
    "if notafinal<3 and acomulado_de_inasistencias<12:\n",
    "    print(\"PERDIO ACADEMICAMENTE\")\n",
    "if acomulado_de_inasistencias>12:\n",
    "    print(\"PERDIO POR INASISTENCIAS\")\n",
    "if notafinal<3 and acomulado_de_inasistencias>12:\n",
    "    print(\"PERDIO ACADEMICAMENTE Y POR INASISTENCIA\")"
   ]
  },
  {
   "cell_type": "code",
   "execution_count": null,
   "metadata": {},
   "outputs": [],
   "source": []
  }
 ],
 "metadata": {
  "kernelspec": {
   "display_name": "Python 3",
   "language": "python",
   "name": "python3"
  },
  "language_info": {
   "codemirror_mode": {
    "name": "ipython",
    "version": 3
   },
   "file_extension": ".py",
   "mimetype": "text/x-python",
   "name": "python",
   "nbconvert_exporter": "python",
   "pygments_lexer": "ipython3",
   "version": "3.8.5"
  }
 },
 "nbformat": 4,
 "nbformat_minor": 4
}
